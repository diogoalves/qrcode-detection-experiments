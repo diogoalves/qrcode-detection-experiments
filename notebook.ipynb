{
 "cells": [
  {
   "cell_type": "code",
   "execution_count": 2,
   "metadata": {},
   "outputs": [],
   "source": [
    "import pandas as pd\n",
    "from PIL import Image\n",
    "\n"
   ]
  },
  {
   "cell_type": "code",
   "execution_count": 3,
   "metadata": {},
   "outputs": [],
   "source": [
    "test_qr_codes = pd.read_csv(f'test-images/src/qr_codes_offline_test.csv', dtype={'image_id': str, 'object_id': str})\n"
   ]
  },
  {
   "cell_type": "code",
   "execution_count": 6,
   "metadata": {},
   "outputs": [
    {
     "data": {
      "text/html": [
       "<div>\n",
       "<style scoped>\n",
       "    .dataframe tbody tr th:only-of-type {\n",
       "        vertical-align: middle;\n",
       "    }\n",
       "\n",
       "    .dataframe tbody tr th {\n",
       "        vertical-align: top;\n",
       "    }\n",
       "\n",
       "    .dataframe thead th {\n",
       "        text-align: right;\n",
       "    }\n",
       "</style>\n",
       "<table border=\"1\" class=\"dataframe\">\n",
       "  <thead>\n",
       "    <tr style=\"text-align: right;\">\n",
       "      <th></th>\n",
       "      <th>image_id</th>\n",
       "      <th>image_height</th>\n",
       "      <th>image_width</th>\n",
       "      <th>object_id</th>\n",
       "      <th>class</th>\n",
       "      <th>xmin</th>\n",
       "      <th>ymin</th>\n",
       "      <th>xmax</th>\n",
       "      <th>ymax</th>\n",
       "    </tr>\n",
       "  </thead>\n",
       "  <tbody>\n",
       "    <tr>\n",
       "      <th>0</th>\n",
       "      <td>IMG_20220529_144613</td>\n",
       "      <td>4000</td>\n",
       "      <td>3000</td>\n",
       "      <td>0</td>\n",
       "      <td>qr_code</td>\n",
       "      <td>30</td>\n",
       "      <td>30</td>\n",
       "      <td>130</td>\n",
       "      <td>130</td>\n",
       "    </tr>\n",
       "    <tr>\n",
       "      <th>1</th>\n",
       "      <td>IMG_20220529_144618</td>\n",
       "      <td>4000</td>\n",
       "      <td>3000</td>\n",
       "      <td>1</td>\n",
       "      <td>qr_code</td>\n",
       "      <td>30</td>\n",
       "      <td>30</td>\n",
       "      <td>130</td>\n",
       "      <td>130</td>\n",
       "    </tr>\n",
       "  </tbody>\n",
       "</table>\n",
       "</div>"
      ],
      "text/plain": [
       "              image_id  image_height  image_width object_id    class  xmin  \\\n",
       "0  IMG_20220529_144613          4000         3000         0  qr_code    30   \n",
       "1  IMG_20220529_144618          4000         3000         1  qr_code    30   \n",
       "\n",
       "   ymin  xmax  ymax  \n",
       "0    30   130   130  \n",
       "1    30   130   130  "
      ]
     },
     "execution_count": 6,
     "metadata": {},
     "output_type": "execute_result"
    }
   ],
   "source": [
    "test_qr_codes.iloc[0:2,:]"
   ]
  },
  {
   "cell_type": "code",
   "execution_count": 19,
   "metadata": {},
   "outputs": [
    {
     "name": "stdout",
     "output_type": "stream",
     "text": [
      "i: 8, precision[i]=0.9, precision[i+1]=0.1, max: 0.9\n",
      "i: 7, precision[i]=0.8, precision[i+1]=0.9, max: 0.9\n",
      "i: 6, precision[i]=0.7, precision[i+1]=0.8, max: 0.8\n",
      "i: 5, precision[i]=0.6, precision[i+1]=0.7, max: 0.7\n",
      "i: 4, precision[i]=0.5, precision[i+1]=0.6, max: 0.6\n",
      "i: 3, precision[i]=0.4, precision[i+1]=0.5, max: 0.5\n",
      "i: 2, precision[i]=0.3, precision[i+1]=0.4, max: 0.4\n",
      "i: 1, precision[i]=0.2, precision[i+1]=0.3, max: 0.3\n",
      "i: 0, precision[i]=1, precision[i+1]=0.2, max: 1\n"
     ]
    },
    {
     "data": {
      "text/plain": [
       "[1, 0.2, 0.3, 0.4, 0.5, 0.6, 0.7, 0.8, 0.9, 0.1]"
      ]
     },
     "execution_count": 19,
     "metadata": {},
     "output_type": "execute_result"
    }
   ],
   "source": [
    "p = [1,.20,.30,.40,.50,.60, .70, .80, .90, .100]\n",
    "f = []\n",
    "for i in range(len(p)-2, -1, -1):\n",
    "    print(f'i: {i}, precision[i]={p[i]}, precision[i+1]={p[i+1]}, max: {max(p[i], p[i+1])}')\n",
    "    # p[i] = max(p[i], p[i+1])\n",
    "    # print(f'i: {str(i)}, precision[i]={str(p[i])}, precision[i]={str(p[i+1])}, max:{str(max(p[i], p[i+1]))} ')\n",
    "p"
   ]
  },
  {
   "cell_type": "code",
   "execution_count": 22,
   "metadata": {},
   "outputs": [
    {
     "data": {
      "text/plain": [
       "[0.2, 0.3, 0.4, 0.5, 0.6, 0.7, 0.8, 0.9, 0.1]"
      ]
     },
     "execution_count": 22,
     "metadata": {},
     "output_type": "execute_result"
    }
   ],
   "source": [
    "p[1:]"
   ]
  },
  {
   "cell_type": "code",
   "execution_count": 23,
   "metadata": {},
   "outputs": [
    {
     "data": {
      "text/plain": [
       "[1, 0.2, 0.3, 0.4, 0.5, 0.6, 0.7, 0.8, 0.9]"
      ]
     },
     "execution_count": 23,
     "metadata": {},
     "output_type": "execute_result"
    }
   ],
   "source": [
    "p[:-1]"
   ]
  }
 ],
 "metadata": {
  "interpreter": {
   "hash": "7b3f65ccbc3d9790c8a7f01cffd271edf5dac4c46c9b71d4fafa4fb3d6f7eac2"
  },
  "kernelspec": {
   "display_name": "Python 3.9.12 ('qrcode')",
   "language": "python",
   "name": "python3"
  },
  "language_info": {
   "codemirror_mode": {
    "name": "ipython",
    "version": 3
   },
   "file_extension": ".py",
   "mimetype": "text/x-python",
   "name": "python",
   "nbconvert_exporter": "python",
   "pygments_lexer": "ipython3",
   "version": "3.9.12"
  },
  "orig_nbformat": 4
 },
 "nbformat": 4,
 "nbformat_minor": 2
}
