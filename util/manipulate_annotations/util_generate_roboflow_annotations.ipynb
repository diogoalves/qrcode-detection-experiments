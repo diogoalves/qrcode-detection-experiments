{
 "cells": [
  {
   "cell_type": "code",
   "execution_count": 1,
   "metadata": {},
   "outputs": [],
   "source": [
    "import pandas as pd\n",
    "from tqdm import tqdm\n",
    "import json\n",
    "from glob import glob\n",
    "from pathlib import Path\n",
    "import shutil\n",
    "\n",
    "dataset = {\n",
    "    'train': pd.read_csv('./dataset/baseline/qr_codes_train.csv', dtype={'image_id': str}, usecols=['image_id']),\n",
    "    'valid': pd.read_csv('./dataset/baseline/qr_codes_valid.csv', dtype={'image_id': str}, usecols=['image_id']),\n",
    "    'test': pd.read_csv('./dataset/baseline/qr_codes_test.csv', dtype={'image_id': str}, usecols=['image_id'])\n",
    "}\n"
   ]
  },
  {
   "cell_type": "code",
   "execution_count": 25,
   "metadata": {},
   "outputs": [
    {
     "name": "stderr",
     "output_type": "stream",
     "text": [
      "Copying train files: 100%|██████████| 567/567 [00:07<00:00, 79.21it/s] \n",
      "Copying valid files: 100%|██████████| 100/100 [00:10<00:00,  9.76it/s]\n",
      "Copying test files: 100%|██████████| 100/100 [00:06<00:00, 15.24it/s]\n"
     ]
    }
   ],
   "source": [
    "to_iterate = ['train', 'valid', 'test']\n",
    "for current in to_iterate:\n",
    "\n",
    "    for file in tqdm(set(dataset[current]['image_id']), desc=f'Copying {current} files'):\n",
    "        src = f'./dataset/baseline/images/{file}.jpg'\n",
    "        dst = f'./dataset/baseline/roboflow_{current}/{file}.jpg'\n",
    "        shutil.copyfile(src, dst)\n",
    "        \n",
    "        src = f'./dataset/baseline/annotation/{file}.json'\n",
    "        dst = f'./dataset/baseline/roboflow_{current}/{file}.json'\n",
    "        shutil.copyfile(src, dst)"
   ]
  },
  {
   "cell_type": "code",
   "execution_count": 8,
   "metadata": {},
   "outputs": [
    {
     "name": "stderr",
     "output_type": "stream",
     "text": [
      "Copying train files: 100%|██████████| 567/567 [00:29<00:00, 19.36it/s]\n",
      "Copying valid files: 100%|██████████| 100/100 [00:05<00:00, 18.36it/s]\n",
      "Copying test files: 100%|██████████| 100/100 [00:04<00:00, 21.21it/s]\n"
     ]
    }
   ],
   "source": [
    "to_iterate = ['train', 'valid', 'test']\n",
    "for current in to_iterate:\n",
    "\n",
    "    for file in tqdm(set(dataset[current]['image_id']), desc=f'Copying {current} files'):\n",
    "        src = f'./dataset/baseline/images/{file}.jpg'\n",
    "        dst = f'./dataset/baseline/roboflow_1c_{current}/{file}.jpg'\n",
    "        shutil.copyfile(src, dst)\n",
    "        \n",
    "        src = f'./dataset/baseline/annotation/{file}.json'\n",
    "        dst = f'./dataset/baseline/roboflow_1c_{current}/{file}.json'\n",
    "        \n",
    "        file = open(src)\n",
    "        data = json.load(file)\n",
    "        shapes = data['shapes'] \n",
    "        only_qrcodes = [obj for obj in shapes if obj[\"label\"] == \"qr_code\"]\n",
    "        data['shapes'] = only_qrcodes\n",
    "        with open(dst, \"w\") as outfile:\n",
    "            json.dump(data, outfile)"
   ]
  },
  {
   "cell_type": "code",
   "execution_count": 5,
   "metadata": {},
   "outputs": [
    {
     "name": "stderr",
     "output_type": "stream",
     "text": [
      "Copying more training files: 100%|██████████| 168/168 [00:10<00:00, 16.30it/s]\n"
     ]
    }
   ],
   "source": [
    "train_more = pd.read_csv('E:\\\\work\\\\qrcode\\\\offline-test-images\\\\annotations_back\\\\qr_codes_new.csv', dtype={'image_id': str}, usecols=['image_id'])\n",
    "train_more\n",
    "\n",
    "for file in tqdm(set(train_more['image_id']), desc=f'Copying more training files'):\n",
    "    src = f'E:\\\\work\\\\qrcode\\\\offline-test-images\\\\images\\\\{file}.jpg'\n",
    "    dst = f'./dataset/baseline/roboflow_1c_train_moreexamples/{file}.jpg'\n",
    "    shutil.copyfile(src, dst)\n",
    "    \n",
    "    src = f'E:\\\\work\\\\qrcode\\\\offline-test-images\\\\annotations\\\\{file}.json'\n",
    "    dst = f'./dataset/baseline/roboflow_1c_train_moreexamples/{file}.json'\n",
    "    \n",
    "    file = open(src)\n",
    "    data = json.load(file)\n",
    "    shapes = data['shapes'] \n",
    "    only_qrcodes = [obj for obj in shapes if obj[\"label\"] == \"qr_code\"]\n",
    "    data['shapes'] = only_qrcodes\n",
    "    with open(dst, \"w\") as outfile:\n",
    "        json.dump(data, outfile)"
   ]
  },
  {
   "cell_type": "code",
   "execution_count": 8,
   "metadata": {},
   "outputs": [
    {
     "name": "stderr",
     "output_type": "stream",
     "text": [
      "Copying train_more files: 100%|██████████| 168/168 [00:00<00:00, 227.08it/s]\n"
     ]
    }
   ],
   "source": [
    "train_more = pd.read_csv('E:\\\\work\\\\qrcode\\\\offline-test-images\\\\annotations_back\\\\qr_codes_new.csv', dtype={'image_id': str}, usecols=['image_id'])\n",
    "\n",
    "for file in tqdm(set(train_more['image_id']), desc=f'Copying train_more files'):\n",
    "    src = f'E:\\\\work\\\\qrcode\\\\offline-test-images\\\\images\\\\{file}.jpg'\n",
    "    dst = f'./dataset/baseline/roboflow_2c_train_moreexamples/{file}.jpg'\n",
    "    shutil.copyfile(src, dst)\n",
    "    \n",
    "    src = f'E:\\\\work\\\\qrcode\\\\offline-test-images\\\\annotations\\\\{file}.json'\n",
    "    dst = f'./dataset/baseline/roboflow_2c_train_moreexamples/{file}.json'\n",
    "    shutil.copyfile(src, dst)"
   ]
  },
  {
   "cell_type": "code",
   "execution_count": 11,
   "metadata": {},
   "outputs": [
    {
     "name": "stderr",
     "output_type": "stream",
     "text": [
      "Copying train_more files: 100%|██████████| 168/168 [00:00<00:00, 265.41it/s]\n"
     ]
    }
   ],
   "source": [
    "train_more = pd.read_csv('E:\\\\work\\\\qrcode\\\\offline-test-images\\\\annotations_back\\\\qr_codes_new.csv', dtype={'image_id': str}, usecols=['image_id'])\n",
    "\n",
    "for file in tqdm(set(train_more['image_id']), desc=f'Copying train_more files'):\n",
    "    src = f'E:\\\\work\\\\qrcode\\\\offline-test-images\\\\images\\\\{file}.jpg'\n",
    "    dst = f'./dataset/baseline/roboflow_2c_train_moreexamples/{file}.jpg'\n",
    "    shutil.copyfile(src, dst)\n",
    "    \n",
    "    src = f'E:\\\\work\\\\qrcode\\\\offline-test-images\\\\annotations\\\\{file}.json'\n",
    "    dst = f'./dataset/baseline/roboflow_2c_train_moreexamples/{file}.json'\n",
    "    \n",
    "    file = open(src)\n",
    "    data = json.load(file)\n",
    "    shapes = data['shapes']\n",
    "    for i in range(len(shapes)):\n",
    "        if shapes[i][\"label\"] == \"fip\":\n",
    "            shapes[i][\"label\"] = \"fips\"\n",
    "\n",
    "    data['shapes'] = shapes\n",
    "    with open(dst, \"w\") as outfile:\n",
    "        json.dump(data, outfile)"
   ]
  }
 ],
 "metadata": {
  "interpreter": {
   "hash": "692e0e5b2dac9535ba397df32516123d15cee642b64f5380d2fb21772a29b53a"
  },
  "kernelspec": {
   "display_name": "Python 3.8.0 ('qrcode')",
   "language": "python",
   "name": "python3"
  },
  "language_info": {
   "codemirror_mode": {
    "name": "ipython",
    "version": 3
   },
   "file_extension": ".py",
   "mimetype": "text/x-python",
   "name": "python",
   "nbconvert_exporter": "python",
   "pygments_lexer": "ipython3",
   "version": "3.8.0"
  },
  "orig_nbformat": 4
 },
 "nbformat": 4,
 "nbformat_minor": 2
}
